{
 "cells": [
  {
   "cell_type": "code",
   "execution_count": 1,
   "id": "19125ee3-06d6-4b06-97c7-ba1807b1d61c",
   "metadata": {},
   "outputs": [
    {
     "name": "stdout",
     "output_type": "stream",
     "text": [
      "Array 1 (Even integers from 2 to 18):\n",
      "[[ 2  4  6]\n",
      " [ 8 10 12]\n",
      " [14 16 18]]\n",
      "\n",
      "Array 2 (Integers from 9 to 1):\n",
      "[[9 8 7]\n",
      " [6 5 4]\n",
      " [3 2 1]]\n",
      "\n",
      "Result of element-wise multiplication:\n",
      "[[18 32 42]\n",
      " [48 50 48]\n",
      " [42 32 18]]\n"
     ]
    }
   ],
   "source": [
    "#Exercise 7.3 by sriman\n",
    "import numpy as np\n",
    "\n",
    "# Step 1: Create a 3x3 array with even integers from 2 to 18\n",
    "array1 = np.arange(2, 19, 2).reshape(3, 3)\n",
    "\n",
    "# Step 2: Create a 3x3 array with integers from 9 down to 1\n",
    "array2 = np.arange(9, 0, -1).reshape(3, 3)\n",
    "\n",
    "# Step 3: Perform element-wise multiplication\n",
    "result = array1 * array2\n",
    "\n",
    "# Display the arrays and result\n",
    "print(\"Array 1 (Even integers from 2 to 18):\")\n",
    "print(array1)\n",
    "print(\"\\nArray 2 (Integers from 9 to 1):\")\n",
    "print(array2)\n",
    "print(\"\\nResult of element-wise multiplication:\")\n",
    "print(result)\n"
   ]
  },
  {
   "cell_type": "code",
   "execution_count": null,
   "id": "9d2d7b6c-2396-44c8-b6f9-4e03df5e05be",
   "metadata": {},
   "outputs": [],
   "source": []
  }
 ],
 "metadata": {
  "kernelspec": {
   "display_name": "Python 3 (ipykernel)",
   "language": "python",
   "name": "python3"
  },
  "language_info": {
   "codemirror_mode": {
    "name": "ipython",
    "version": 3
   },
   "file_extension": ".py",
   "mimetype": "text/x-python",
   "name": "python",
   "nbconvert_exporter": "python",
   "pygments_lexer": "ipython3",
   "version": "3.12.4"
  }
 },
 "nbformat": 4,
 "nbformat_minor": 5
}
